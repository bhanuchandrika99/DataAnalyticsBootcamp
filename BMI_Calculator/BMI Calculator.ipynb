{
 "cells": [
  {
   "cell_type": "markdown",
   "id": "cdf13e85",
   "metadata": {},
   "source": [
    "https://www.calculatorsoup.com/calculators/health/bmi-calculator.php"
   ]
  },
  {
   "cell_type": "code",
   "execution_count": 11,
   "id": "63f5b517",
   "metadata": {},
   "outputs": [
    {
     "name": "stdout",
     "output_type": "stream",
     "text": [
      "Enter your name: Bhanu\n",
      "Enter your weight in pounds: 158\n",
      "Enter your height in inches: 69\n",
      "Your BMI is:  23.329972694812014\n",
      "Bhanu You are Normal weight\n"
     ]
    }
   ],
   "source": [
    "name= input(\"Enter your name: \")\n",
    "\n",
    "weight = int(input(\"Enter your weight in pounds: \"))\n",
    "height = int(input(\"Enter your height in inches: \"))\n",
    "\n",
    "BMI = (weight * 703) / (height * height)\n",
    "print(\"Your BMI is: \", BMI)\n",
    "\n",
    "if BMI > 0:\n",
    "    if (BMI <18.5):\n",
    "        print(name + \" You are Underweight\")\n",
    "    elif (BMI<= 24.9):\n",
    "        print(name + \" You are Normal weight\")\n",
    "    elif (BMI<= 29.9):\n",
    "        print(name + \" You are Overweight\")\n",
    "    elif (BMI<=34.9):\n",
    "        print(name + \" You are Obese\")\n",
    "    elif (BMI<= 39.9):\n",
    "        print(name + \" You are Severly Obese\")\n",
    "    else:\n",
    "        print(name + ' You are Morbidly Obese')\n",
    "else:\n",
    "    print(\"Enter valid inputs\")"
   ]
  },
  {
   "cell_type": "code",
   "execution_count": 5,
   "id": "6e4a0e2f",
   "metadata": {},
   "outputs": [
    {
     "data": {
      "text/plain": [
       "str"
      ]
     },
     "execution_count": 5,
     "metadata": {},
     "output_type": "execute_result"
    }
   ],
   "source": [
    "type(weight)"
   ]
  },
  {
   "cell_type": "code",
   "execution_count": null,
   "id": "59711057",
   "metadata": {},
   "outputs": [],
   "source": []
  },
  {
   "cell_type": "code",
   "execution_count": null,
   "id": "279d78ab",
   "metadata": {},
   "outputs": [],
   "source": []
  },
  {
   "cell_type": "code",
   "execution_count": 1,
   "id": "1105a09e",
   "metadata": {},
   "outputs": [],
   "source": [
    "#BMI = (weight in pounds x 703) / (height in inches x height in inches)"
   ]
  },
  {
   "cell_type": "code",
   "execution_count": null,
   "id": "ea71a2c5",
   "metadata": {},
   "outputs": [],
   "source": [
    "Under 18.5\tUnderweight\tMinimal\n",
    "18.5 - 24.9\tNormal Weight\tMinimal\n",
    "25 - 29.9\tOverweight\tIncreased\n",
    "30 - 34.9\tObese\tHigh\n",
    "35 - 39.9\tSeverely Obese\tVery High\n",
    "40 and over\tMorbidly Obese\tExtremely High"
   ]
  },
  {
   "cell_type": "code",
   "execution_count": null,
   "id": "a30835d9",
   "metadata": {},
   "outputs": [],
   "source": [
    "if BMI > 0:\n",
    "    if (BMI <18.5):\n",
    "        print(name + \" You are Underweight\")\n",
    "    elif (BMI<= 24.9):\n",
    "        print(name + \" You are Normal weight\")\n",
    "    elif (BMI<= 29.9):\n",
    "        print(name + \" You are Overweight\")\n",
    "    elif (BMI<=34.9):\n",
    "        print(name + \" You are Obese\")\n",
    "    elif (BMI<= 39.9):\n",
    "        print(name + \" You are Severly Obese\")\n",
    "    else:\n",
    "        print(name + ' You are Morbidly Obese')\n",
    "else:\n",
    "    print(\"Enter valid inputs\")"
   ]
  }
 ],
 "metadata": {
  "kernelspec": {
   "display_name": "Python 3 (ipykernel)",
   "language": "python",
   "name": "python3"
  },
  "language_info": {
   "codemirror_mode": {
    "name": "ipython",
    "version": 3
   },
   "file_extension": ".py",
   "mimetype": "text/x-python",
   "name": "python",
   "nbconvert_exporter": "python",
   "pygments_lexer": "ipython3",
   "version": "3.11.3"
  }
 },
 "nbformat": 4,
 "nbformat_minor": 5
}
